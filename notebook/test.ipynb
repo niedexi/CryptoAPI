{
 "cells": [
  {
   "cell_type": "code",
   "execution_count": 90,
   "metadata": {},
   "outputs": [
    {
     "data": {
      "text/plain": [
       "<matplotlib.lines.Line2D at 0x3ff2e080>"
      ]
     },
     "execution_count": 90,
     "metadata": {},
     "output_type": "execute_result"
    },
    {
     "data": {
      "image/png": "[encoded data removed]",
      "text/plain": [
       "<matplotlib.figure.Figure at 0x3f351b00>"
      ]
     },
     "metadata": {},
     "output_type": "display_data"
    }
   ],
   "source": [
    "chart[\"Regime\"] = np.where(chart['20-50'] > 0, 1, 0)\n",
    "chart[\"Regime\"] = np.where(chart['20-50'] < 0, -1, chart[\"Regime\"])\n",
    "chart[\"Regime\"].plot(ylim = (-2,2)).axhline(y = 0, color = \"black\", lw = 2)"
   ]
  },
  {
   "cell_type": "code",
   "execution_count": 91,
   "metadata": {
    "collapsed": true
   },
   "outputs": [],
   "source": [
    "%matplotlib inline"
   ]
  },
  {
   "cell_type": "code",
   "execution_count": 92,
   "metadata": {
    "scrolled": true
   },
   "outputs": [
    {
     "data": {
      "text/plain": [
       " 1    128\n",
       "-1    113\n",
       " 0     49\n",
       "Name: Regime, dtype: int64"
      ]
     },
     "execution_count": 92,
     "metadata": {},
     "output_type": "execute_result"
    }
   ],
   "source": [
    "chart[\"Regime\"].value_counts()"
   ]
  },
  {
   "cell_type": "code",
   "execution_count": 93,
   "metadata": {
    "collapsed": true
   },
   "outputs": [],
   "source": [
    "chart['signal'] = 0"
   ]
  },
  {
   "cell_type": "code",
   "execution_count": 94,
   "metadata": {
    "collapsed": true
   },
   "outputs": [],
   "source": [
    "chart['rcopy'] = chart['Regime'].shift(1)"
   ]
  },
  {
   "cell_type": "code",
   "execution_count": 95,
   "metadata": {
    "collapsed": true
   },
   "outputs": [],
   "source": [
    "chart['signal'] = chart['Regime'] - chart['rcopy']"
   ]
  },
  {
   "cell_type": "code",
   "execution_count": 96,
   "metadata": {},
   "outputs": [
    {
     "data": {
      "text/plain": [
       "<matplotlib.axes._subplots.AxesSubplot at 0x2132ebe0>"
      ]
     },
     "execution_count": 96,
     "metadata": {},
     "output_type": "execute_result"
    },
    {
     "data": {
      "image/png": "[encoded data removed]",
      "text/plain": [
       "<matplotlib.figure.Figure at 0x3fa60400>"
      ]
     },
     "metadata": {},
     "output_type": "display_data"
    }
   ],
   "source": [
    "chart[\"signal\"].plot(ylim = (-2, 2))"
   ]
  },
  {
   "cell_type": "code",
   "execution_count": 97,
   "metadata": {},
   "outputs": [
    {
     "data": {
      "text/plain": [
       " 0.0    281\n",
       "-2.0      4\n",
       " 2.0      3\n",
       " 1.0      1\n",
       "Name: signal, dtype: int64"
      ]
     },
     "execution_count": 97,
     "metadata": {},
     "output_type": "execute_result"
    }
   ],
   "source": [
    "chart['signal'].value_counts()"
   ]
  },
  {
   "cell_type": "code",
   "execution_count": 98,
   "metadata": {},
   "outputs": [
    {
     "data": {
      "text/plain": [
       "49     318.599651\n",
       "88     321.000000\n",
       "166    339.990070\n",
       "261    325.000000\n",
       "Name: close, dtype: float64"
      ]
     },
     "execution_count": 98,
     "metadata": {},
     "output_type": "execute_result"
    }
   ],
   "source": [
    "chart.loc[chart[\"signal\"] > 0, \"close\"]"
   ]
  },
  {
   "cell_type": "code",
   "execution_count": 99,
   "metadata": {},
   "outputs": [
    {
     "data": {
      "text/plain": [
       "81     321.875581\n",
       "151    335.000000\n",
       "184    326.100000\n",
       "276    316.999000\n",
       "Name: close, dtype: float64"
      ]
     },
     "execution_count": 99,
     "metadata": {},
     "output_type": "execute_result"
    }
   ],
   "source": [
    "chart.loc[chart[\"signal\"] < 0, \"close\"]"
   ]
  },
  {
   "cell_type": "code",
   "execution_count": 100,
   "metadata": {},
   "outputs": [
    {
     "data": {
      "text/html": [
       "<div>\n",
       "<style>\n",
       "    .dataframe thead tr:only-child th {\n",
       "        text-align: right;\n",
       "    }\n",
       "\n",
       "    .dataframe thead th {\n",
       "        text-align: left;\n",
       "    }\n",
       "\n",
       "    .dataframe tbody tr th {\n",
       "        vertical-align: top;\n",
       "    }\n",
       "</style>\n",
       "<table border=\"1\" class=\"dataframe\">\n",
       "  <thead>\n",
       "    <tr style=\"text-align: right;\">\n",
       "      <th></th>\n",
       "      <th>Price</th>\n",
       "      <th>Regime</th>\n",
       "      <th>Signal</th>\n",
       "    </tr>\n",
       "  </thead>\n",
       "  <tbody>\n",
       "    <tr>\n",
       "      <th>49</th>\n",
       "      <td>318.599651</td>\n",
       "      <td>1</td>\n",
       "      <td>Sell</td>\n",
       "    </tr>\n",
       "    <tr>\n",
       "      <th>81</th>\n",
       "      <td>321.875581</td>\n",
       "      <td>-1</td>\n",
       "      <td>Buy</td>\n",
       "    </tr>\n",
       "    <tr>\n",
       "      <th>88</th>\n",
       "      <td>321.000000</td>\n",
       "      <td>1</td>\n",
       "      <td>Sell</td>\n",
       "    </tr>\n",
       "    <tr>\n",
       "      <th>151</th>\n",
       "      <td>335.000000</td>\n",
       "      <td>-1</td>\n",
       "      <td>Buy</td>\n",
       "    </tr>\n",
       "    <tr>\n",
       "      <th>166</th>\n",
       "      <td>339.990070</td>\n",
       "      <td>1</td>\n",
       "      <td>Sell</td>\n",
       "    </tr>\n",
       "    <tr>\n",
       "      <th>184</th>\n",
       "      <td>326.100000</td>\n",
       "      <td>-1</td>\n",
       "      <td>Buy</td>\n",
       "    </tr>\n",
       "    <tr>\n",
       "      <th>261</th>\n",
       "      <td>325.000000</td>\n",
       "      <td>1</td>\n",
       "      <td>Sell</td>\n",
       "    </tr>\n",
       "    <tr>\n",
       "      <th>276</th>\n",
       "      <td>316.999000</td>\n",
       "      <td>-1</td>\n",
       "      <td>Buy</td>\n",
       "    </tr>\n",
       "  </tbody>\n",
       "</table>\n",
       "</div>"
      ],
      "text/plain": [
       "          Price  Regime Signal\n",
       "49   318.599651       1   Sell\n",
       "81   321.875581      -1    Buy\n",
       "88   321.000000       1   Sell\n",
       "151  335.000000      -1    Buy\n",
       "166  339.990070       1   Sell\n",
       "184  326.100000      -1    Buy\n",
       "261  325.000000       1   Sell\n",
       "276  316.999000      -1    Buy"
      ]
     },
     "execution_count": 100,
     "metadata": {},
     "output_type": "execute_result"
    }
   ],
   "source": [
    "eth_signals = pd.concat([\n",
    "        pd.DataFrame({\"Price\": chart.loc[chart[\"signal\"] > 0, \"close\"],\n",
    "                     \"Regime\": chart.loc[chart[\"signal\"] > 0, \"Regime\"],\n",
    "                     \"Signal\": \"Sell\"}),\n",
    "        pd.DataFrame({\"Price\": chart.loc[chart[\"signal\"] < 0, \"close\"],\n",
    "                     \"Regime\": chart.loc[chart[\"signal\"] < 0, \"Regime\"],\n",
    "                     \"Signal\": \"Buy\"}),\n",
    "    ])\n",
    "eth_signals.sort_index(inplace = True)\n",
    "eth_signals"
   ]
  },
  {
   "cell_type": "code",
   "execution_count": 101,
   "metadata": {},
   "outputs": [
    {
     "data": {
      "text/html": [
       "<div>\n",
       "<style>\n",
       "    .dataframe thead tr:only-child th {\n",
       "        text-align: right;\n",
       "    }\n",
       "\n",
       "    .dataframe thead th {\n",
       "        text-align: left;\n",
       "    }\n",
       "\n",
       "    .dataframe tbody tr th {\n",
       "        vertical-align: top;\n",
       "    }\n",
       "</style>\n",
       "<table border=\"1\" class=\"dataframe\">\n",
       "  <thead>\n",
       "    <tr style=\"text-align: right;\">\n",
       "      <th></th>\n",
       "      <th>Buy</th>\n",
       "      <th>Sell</th>\n",
       "    </tr>\n",
       "  </thead>\n",
       "  <tbody>\n",
       "    <tr>\n",
       "      <th>49</th>\n",
       "      <td>NaN</td>\n",
       "      <td>318.599651</td>\n",
       "    </tr>\n",
       "    <tr>\n",
       "      <th>81</th>\n",
       "      <td>321.875581</td>\n",
       "      <td>NaN</td>\n",
       "    </tr>\n",
       "    <tr>\n",
       "      <th>88</th>\n",
       "      <td>NaN</td>\n",
       "      <td>321.000000</td>\n",
       "    </tr>\n",
       "    <tr>\n",
       "      <th>151</th>\n",
       "      <td>335.000000</td>\n",
       "      <td>NaN</td>\n",
       "    </tr>\n",
       "    <tr>\n",
       "      <th>166</th>\n",
       "      <td>NaN</td>\n",
       "      <td>339.990070</td>\n",
       "    </tr>\n",
       "    <tr>\n",
       "      <th>184</th>\n",
       "      <td>326.100000</td>\n",
       "      <td>NaN</td>\n",
       "    </tr>\n",
       "    <tr>\n",
       "      <th>261</th>\n",
       "      <td>NaN</td>\n",
       "      <td>325.000000</td>\n",
       "    </tr>\n",
       "    <tr>\n",
       "      <th>276</th>\n",
       "      <td>316.999000</td>\n",
       "      <td>NaN</td>\n",
       "    </tr>\n",
       "  </tbody>\n",
       "</table>\n",
       "</div>"
      ],
      "text/plain": [
       "            Buy        Sell\n",
       "49          NaN  318.599651\n",
       "81   321.875581         NaN\n",
       "88          NaN  321.000000\n",
       "151  335.000000         NaN\n",
       "166         NaN  339.990070\n",
       "184  326.100000         NaN\n",
       "261         NaN  325.000000\n",
       "276  316.999000         NaN"
      ]
     },
     "execution_count": 101,
     "metadata": {},
     "output_type": "execute_result"
    }
   ],
   "source": [
    "eth_profits = pd.DataFrame({\n",
    "        \"Buy\": eth_signals.loc[eth_signals[\"Signal\"] == \"Buy\", \"Price\"],\n",
    "        \"Sell\": eth_signals.loc[eth_signals[\"Signal\"] == \"Sell\", \"Price\"],\n",
    "})\n",
    "eth_profits"
   ]
  },
  {
   "cell_type": "code",
   "execution_count": 102,
   "metadata": {
    "collapsed": true
   },
   "outputs": [],
   "source": [
    "eth_profits['Buy'] = eth_profits['Buy'].shift(1)"
   ]
  },
  {
   "cell_type": "code",
   "execution_count": 104,
   "metadata": {},
   "outputs": [
    {
     "data": {
      "text/html": [
       "<div>\n",
       "<style>\n",
       "    .dataframe thead tr:only-child th {\n",
       "        text-align: right;\n",
       "    }\n",
       "\n",
       "    .dataframe thead th {\n",
       "        text-align: left;\n",
       "    }\n",
       "\n",
       "    .dataframe tbody tr th {\n",
       "        vertical-align: top;\n",
       "    }\n",
       "</style>\n",
       "<table border=\"1\" class=\"dataframe\">\n",
       "  <thead>\n",
       "    <tr style=\"text-align: right;\">\n",
       "      <th></th>\n",
       "      <th>Buy</th>\n",
       "      <th>Sell</th>\n",
       "      <th>Profit</th>\n",
       "    </tr>\n",
       "  </thead>\n",
       "  <tbody>\n",
       "    <tr>\n",
       "      <th>49</th>\n",
       "      <td>NaN</td>\n",
       "      <td>317.326447</td>\n",
       "      <td>NaN</td>\n",
       "    </tr>\n",
       "    <tr>\n",
       "      <th>81</th>\n",
       "      <td>NaN</td>\n",
       "      <td>NaN</td>\n",
       "      <td>NaN</td>\n",
       "    </tr>\n",
       "    <tr>\n",
       "      <th>88</th>\n",
       "      <td>321.070892</td>\n",
       "      <td>319.717204</td>\n",
       "      <td>-1.353688</td>\n",
       "    </tr>\n",
       "    <tr>\n",
       "      <th>151</th>\n",
       "      <td>NaN</td>\n",
       "      <td>NaN</td>\n",
       "      <td>NaN</td>\n",
       "    </tr>\n",
       "    <tr>\n",
       "      <th>166</th>\n",
       "      <td>334.162500</td>\n",
       "      <td>338.631385</td>\n",
       "      <td>4.468885</td>\n",
       "    </tr>\n",
       "    <tr>\n",
       "      <th>184</th>\n",
       "      <td>NaN</td>\n",
       "      <td>NaN</td>\n",
       "      <td>NaN</td>\n",
       "    </tr>\n",
       "    <tr>\n",
       "      <th>261</th>\n",
       "      <td>325.284750</td>\n",
       "      <td>323.701219</td>\n",
       "      <td>-1.583531</td>\n",
       "    </tr>\n",
       "    <tr>\n",
       "      <th>276</th>\n",
       "      <td>NaN</td>\n",
       "      <td>NaN</td>\n",
       "      <td>NaN</td>\n",
       "    </tr>\n",
       "  </tbody>\n",
       "</table>\n",
       "</div>"
      ],
      "text/plain": [
       "            Buy        Sell    Profit\n",
       "49          NaN  317.326447       NaN\n",
       "81          NaN         NaN       NaN\n",
       "88   321.070892  319.717204 -1.353688\n",
       "151         NaN         NaN       NaN\n",
       "166  334.162500  338.631385  4.468885\n",
       "184         NaN         NaN       NaN\n",
       "261  325.284750  323.701219 -1.583531\n",
       "276         NaN         NaN       NaN"
      ]
     },
     "execution_count": 104,
     "metadata": {},
     "output_type": "execute_result"
    }
   ],
   "source": [
    "taker= 0.9975\n",
    "maker = 0.9985\n",
    "eth_profits['Buy'] = eth_profits['Buy'] * taker\n",
    "eth_profits['Sell'] = eth_profits['Sell'] * maker *taker\n",
    "eth_profits['Profit'] = eth_profits['Sell'] - eth_profits['Buy']\n",
    "eth_profits"
   ]
  },
  {
   "cell_type": "code",
   "execution_count": 105,
   "metadata": {},
   "outputs": [
    {
     "data": {
      "text/plain": [
       "1.5316651151180736"
      ]
     },
     "execution_count": 105,
     "metadata": {},
     "output_type": "execute_result"
    }
   ],
   "source": [
    "eth_profits['Profit'].sum()"
   ]
  },
  {
   "cell_type": "code",
   "execution_count": 1,
   "metadata": {
    "collapsed": true
   },
   "outputs": [
    {
     "name": "stderr",
     "output_type": "stream",
     "text": [
      "C:\\Users\\annadume\\Anaconda3\\lib\\site-packages\\matplotlib\\cbook.py:136: MatplotlibDeprecationWarning: The finance module has been deprecated in mpl 2.0 and will be removed in mpl 2.2. Please use the module mpl_finance instead.\n",
      "  warnings.warn(message, mplDeprecation, stacklevel=1)\n"
     ]
    },
    {
     "name": "stdout",
     "output_type": "stream",
     "text": [
      "1504569215\n",
      "1504547615\n",
      "10 day MA: 305.76\n",
      "20 day MA: 303.38\n"
     ]
    },
    {
     "data": {
      "image/png": "[encoded data removed]",
      "text/plain": [
       "<matplotlib.figure.Figure at 0x97f3470>"
      ]
     },
     "metadata": {},
     "output_type": "display_data"
    }
   ],
   "source": [
    "import pandas as pd\n",
    "import numpy as np\n",
    "import matplotlib.pyplot as plt\n",
    "#from matplotlib import dates, ticker\n",
    "import matplotlib as mpl\n",
    "from matplotlib.finance import candlestick_ohlc\n",
    "import time\n",
    "mpl.style.use('default')\n",
    "\n",
    "m = 60\n",
    "h = m * 60\n",
    "d = h * 24\n",
    "\n",
    "now = int(time.time())\n",
    "print(now)\n",
    "s = now - 6 * h\n",
    "print(s)\n",
    "a = 'USDT_ETH'\n",
    "e = '9999999999'\n",
    "p = '900'\n",
    "js = 'https://poloniex.com/public?command=returnChartData&currencyPair=%s&start=%s&end=%s&period=%s' % (a, s, e, p)\n",
    "eth = pd.read_json(js)\n",
    "\n",
    "date = eth.index\n",
    "open = eth['open'].tolist()\n",
    "high = eth['high'].tolist()\n",
    "low = eth['low'].tolist()\n",
    "close = eth['close'].tolist()\n",
    "\n",
    "ohlc = list(zip(date, open, high, low, close))\n",
    "\n",
    "fig = plt.subplot()\n",
    "ax1 = plt.subplot()\n",
    "candlestick_ohlc(ax1, ohlc, width=0.5, colorup='g', colordown='r', alpha=0.8)\n",
    "\n",
    "eth[\"5d\"] = np.round(eth[\"weightedAverage\"].rolling(window = 5, center = False).mean(), 2)\n",
    "eth[\"10d\"] = np.round(eth[\"weightedAverage\"].rolling(window = 10, center = False).mean(), 2)\n",
    "eth[\"20d\"] = np.round(eth[\"weightedAverage\"].rolling(window = 20, center = False).mean(), 2)\n",
    "#eth[\"30d\"] = np.round(eth[\"weightedAverage\"].rolling(window = 30, center = False).mean(), 2)\n",
    "#eth[\"60d\"] = np.round(eth[\"weightedAverage\"].rolling(window = 60, center = False).mean(), 2)\n",
    "\n",
    "\n",
    "\n",
    "day10 = eth['10d'].tolist()[-2]\n",
    "day20 = eth['20d'].tolist()[-2]\n",
    "print('10 day MA:', day10)\n",
    "print('20 day MA:', day20)\n",
    "\n",
    "\n",
    "\n",
    "#plt.plot(date, eth[\"5d\"])\n",
    "plt.plot(date, eth[\"10d\"])\n",
    "plt.plot(date, eth[\"20d\"])\n",
    "#plt.plot(date, eth['weightedAverage'])\n",
    "\n",
    "\n",
    "\n",
    "plt.show()\n"
   ]
  }
 ],
 "metadata": {
  "kernelspec": {
   "display_name": "Python 3",
   "language": "python",
   "name": "python3"
  },
  "language_info": {
   "codemirror_mode": {
    "name": "ipython",
    "version": 3
   },
   "file_extension": ".py",
   "mimetype": "text/x-python",
   "name": "python",
   "nbconvert_exporter": "python",
   "pygments_lexer": "ipython3",
   "version": "3.7.2"
  }
 },
 "nbformat": 4,
 "nbformat_minor": 2
}
